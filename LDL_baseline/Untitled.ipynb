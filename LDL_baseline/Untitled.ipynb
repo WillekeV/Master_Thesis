{
 "cells": [
  {
   "cell_type": "code",
   "execution_count": 1,
   "metadata": {},
   "outputs": [],
   "source": [
    "import pandas as pd\n",
    "import numpy as np\n",
    "import os\n",
    "from semspaces.space import SemanticSpace\n",
    "import json\n",
    "from sklearn.metrics.pairwise import cosine_similarity"
   ]
  },
  {
   "cell_type": "code",
   "execution_count": 2,
   "metadata": {},
   "outputs": [],
   "source": [
    "def cross_mapping(train_form_matrix, train_semantic_space, test_form_matrix, target_vocab):\n",
    "\n",
    "    \"\"\"\n",
    "    :param train_form_matrix:       NumPy 2d array\n",
    "    :param train_semantic_space:    NumPy 2d array\n",
    "    :param test_form_matrix:        NumPy 2d array\n",
    "    :return:                        NumPy 2d array\n",
    "    \"\"\"\n",
    "\n",
    "    subset_transform = np.dot(np.linalg.pinv(train_form_matrix), train_semantic_space)\n",
    "    estimated_semantic_space = np.dot(test_form_matrix, subset_transform)\n",
    "    \n",
    "    #print(estimated_semantic_space)\n",
    "    \n",
    "    space_dict = dict()\n",
    "    \n",
    "    for i in range(len(estimated_semantic_space)):\n",
    "        for word in target_vocab[:3]:\n",
    "            space_dict[word] = estimated_semantic_space[i].reshape(1,-1)\n",
    "\n",
    "    return space_dict"
   ]
  },
  {
   "cell_type": "code",
   "execution_count": 3,
   "metadata": {},
   "outputs": [
    {
     "name": "stdout",
     "output_type": "stream",
     "text": [
      "None\n",
      "None\n"
     ]
    }
   ],
   "source": [
    "ldl_dir = \"C:/Users/wgvan/Documents/Universiteit_Nijmegen/jaar2/thesis/Project_Code/LDL_output_dir\"\n",
    "\n",
    "embedding_space_file = pd.read_csv(\"D:/UniversiteitNijmegen/Thesis/Test/Processed/Word2Vec/W2VChildDirected24.txt\", sep = \" \", header = None, skiprows = 1)\n",
    "\n",
    "new_header = embedding_space_file.iloc[:, 0]\n",
    "embedding_space_file = embedding_space_file.iloc[:, 1:]\n",
    "embedding_space_file.index = new_header\n",
    "embedding_space_file = embedding_space_file.sort_index(inplace=True)\n",
    "print(embedding_space_file)\n",
    "#full_space_array = embedding_space_file.to_numpy()\n",
    "\n",
    "form_space_file = pd.read_csv(\"D:/UniversiteitNijmegen/Thesis/Test/Processed/FormEmbeddings/FormVectorChildDirected24.txt\", sep = \" \", header = None, skiprows = 2)\n",
    "new_header2 = form_space_file.iloc[:, 0]\n",
    "form_space_file = form_space_file.iloc[:, 1:]\n",
    "form_space_file.index = new_header2\n",
    "form_space_file = form_space_file.sort_index(inplace=True)\n",
    "print(form_space_file)\n",
    "#full_form_array = embedding_space_file.to_numpy()\n"
   ]
  },
  {
   "cell_type": "code",
   "execution_count": 88,
   "metadata": {},
   "outputs": [],
   "source": [
    "embedding_space_file = \"D:/UniversiteitNijmegen/Thesis/Test/Processed/Word2Vec/W2VChildDirected30.txt\"\n",
    "reference_space_file = \"D:/UniversiteitNijmegen/Thesis/Test/Processed/Word2Vec/W2VChildDirected24.txt\"\n",
    "embedding_form_file = \"D:/UniversiteitNijmegen/Thesis/Test/Processed/FormEmbeddings/FormVectorChildDirected30.txt\"\n",
    "reference_form_file = \"D:/UniversiteitNijmegen/Thesis/Test/Processed/FormEmbeddings/FormVectorChildDirected24.txt\"\n",
    "child_produced_space_file = \"D:/UniversiteitNijmegen/Thesis/Test/Processed/Word2Vec/W2VChildProduced24.txt\"\n",
    "wordcount_file = \"D:/UniversiteitNijmegen/Thesis/Test/Processed/WordCounts/WordCountChildDirected30.json\"\n",
    "wordcount_file_reference = \"D:/UniversiteitNijmegen/Thesis/Test/Processed/WordCounts/WordCountChildDirected24.json\"\n",
    "\n",
    "ldl_dir = \"C:/Users/wgvan/Documents/Universiteit_Nijmegen/jaar2/thesis/Project_Code/LDL_output_dir\"\n",
    "\n",
    "embedding_space = SemanticSpace.from_csv(embedding_space_file, prenorm=True)\n",
    "w2v_words = embedding_space.included_words()\n",
    "\n",
    "reference_space = SemanticSpace.from_csv(reference_space_file, prenorm = True)\n",
    "w2v_reference = reference_space.included_words()\n",
    "\n",
    "embedding_form = SemanticSpace.from_csv(embedding_form_file, prenorm=True)\n",
    "reference_form = SemanticSpace.from_csv(reference_form_file, prenorm=True)\n",
    "\n",
    "child_produced_space = SemanticSpace.from_csv(child_produced_space_file, prenorm = True)\n",
    "w2v_child_produced = child_produced_space.included_words()\n",
    "\n",
    "wordcount = json.load(open(wordcount_file))\n",
    "reference_wordcount = json.load(open(wordcount_file_reference))"
   ]
  },
  {
   "cell_type": "code",
   "execution_count": 99,
   "metadata": {},
   "outputs": [
    {
     "name": "stdout",
     "output_type": "stream",
     "text": [
      "[[0. 0. 0. ... 0. 0. 0.]\n",
      " [0. 0. 0. ... 0. 0. 0.]\n",
      " [0. 0. 0. ... 0. 0. 0.]]\n"
     ]
    }
   ],
   "source": [
    "full_space_array = reference_space.get_vector(list(w2v_reference)[0])\n",
    "full_form_array = reference_form.get_vector(list(w2v_reference)[0])\n",
    "\n",
    "for word in list(w2v_reference)[1:5]:\n",
    "    new_space_vec = reference_space.get_vector(word)\n",
    "    full_space_array = np.vstack((full_space_array, new_space_vec))\n",
    "    new_form_vec = reference_form.get_vector(word)\n",
    "    full_form_array = np.vstack((full_form_array, new_form_vec))\n",
    "\n",
    "precursor_target_vocab = set(w2v_reference.symmetric_difference(w2v_words))\n",
    "target_vocab = []\n",
    "for word in precursor_target_vocab:\n",
    "    try:\n",
    "        if wordcount[word] >= 2:\n",
    "            target_vocab.append(word)\n",
    "    except KeyError:\n",
    "        continue\n",
    "\n",
    "target_form_array = embedding_form.get_vector(target_vocab[0])\n",
    "\n",
    "for word in target_vocab[1:3]:\n",
    "    new_form_vec = embedding_form.get_vector(word)\n",
    "    target_form_array = np.vstack((target_form_array, new_form_vec))\n",
    "print(target_form_array)"
   ]
  },
  {
   "cell_type": "code",
   "execution_count": 148,
   "metadata": {},
   "outputs": [
    {
     "name": "stdout",
     "output_type": "stream",
     "text": [
      "{\"panda's\": array([[ 0.00452933, -0.00965967,  0.01262758,  0.02043455, -0.01208168,\n",
      "         0.01450322,  0.00295767, -0.00259183, -0.02559093,  0.0017455 ,\n",
      "        -0.01160489, -0.00434837,  0.02658522,  0.01660433,  0.00504672,\n",
      "        -0.01243212,  0.00226519,  0.00128567,  0.01116104, -0.0017521 ,\n",
      "         0.02071842,  0.00448997, -0.01242436,  0.02674672, -0.0168687 ,\n",
      "         0.01654318,  0.00431544,  0.00429872, -0.00602618,  0.00825719,\n",
      "         0.00017892,  0.01954423, -0.00758757,  0.01066629,  0.02206939,\n",
      "         0.00057512, -0.00065231,  0.00404098,  0.02943714,  0.01803327,\n",
      "        -0.02059295,  0.00022073,  0.05524384, -0.02240871,  0.00821656,\n",
      "         0.00433515, -0.0059867 ,  0.00755121, -0.03812767,  0.01968912,\n",
      "         0.013939  , -0.00893375,  0.000723  ,  0.02039473,  0.00149666,\n",
      "         0.01775048,  0.00082164,  0.01343502,  0.03438625,  0.00598109,\n",
      "         0.01551123,  0.00072966, -0.01242917, -0.00332576,  0.01371611,\n",
      "         0.00877199, -0.01854672,  0.00194209, -0.0070858 , -0.03356702,\n",
      "        -0.01478301, -0.00082099, -0.00873356, -0.01743542, -0.03057763,\n",
      "        -0.02067795, -0.01749692,  0.00016711, -0.01141887, -0.00652427,\n",
      "        -0.00651729,  0.03101042, -0.01210801,  0.02490608,  0.02882723,\n",
      "         0.01758646, -0.00320688,  0.0231814 ,  0.02430336,  0.0027925 ,\n",
      "         0.01699888,  0.01703476, -0.0096954 ,  0.01471672, -0.02272647,\n",
      "        -0.00143962, -0.00551029,  0.0199921 , -0.03504642, -0.00646225]]), 'smother': array([[ 0.00452933, -0.00965967,  0.01262758,  0.02043455, -0.01208168,\n",
      "         0.01450322,  0.00295767, -0.00259183, -0.02559093,  0.0017455 ,\n",
      "        -0.01160489, -0.00434837,  0.02658522,  0.01660433,  0.00504672,\n",
      "        -0.01243212,  0.00226519,  0.00128567,  0.01116104, -0.0017521 ,\n",
      "         0.02071842,  0.00448997, -0.01242436,  0.02674672, -0.0168687 ,\n",
      "         0.01654318,  0.00431544,  0.00429872, -0.00602618,  0.00825719,\n",
      "         0.00017892,  0.01954423, -0.00758757,  0.01066629,  0.02206939,\n",
      "         0.00057512, -0.00065231,  0.00404098,  0.02943714,  0.01803327,\n",
      "        -0.02059295,  0.00022073,  0.05524384, -0.02240871,  0.00821656,\n",
      "         0.00433515, -0.0059867 ,  0.00755121, -0.03812767,  0.01968912,\n",
      "         0.013939  , -0.00893375,  0.000723  ,  0.02039473,  0.00149666,\n",
      "         0.01775048,  0.00082164,  0.01343502,  0.03438625,  0.00598109,\n",
      "         0.01551123,  0.00072966, -0.01242917, -0.00332576,  0.01371611,\n",
      "         0.00877199, -0.01854672,  0.00194209, -0.0070858 , -0.03356702,\n",
      "        -0.01478301, -0.00082099, -0.00873356, -0.01743542, -0.03057763,\n",
      "        -0.02067795, -0.01749692,  0.00016711, -0.01141887, -0.00652427,\n",
      "        -0.00651729,  0.03101042, -0.01210801,  0.02490608,  0.02882723,\n",
      "         0.01758646, -0.00320688,  0.0231814 ,  0.02430336,  0.0027925 ,\n",
      "         0.01699888,  0.01703476, -0.0096954 ,  0.01471672, -0.02272647,\n",
      "        -0.00143962, -0.00551029,  0.0199921 , -0.03504642, -0.00646225]]), 'zepher': array([[ 0.00452933, -0.00965967,  0.01262758,  0.02043455, -0.01208168,\n",
      "         0.01450322,  0.00295767, -0.00259183, -0.02559093,  0.0017455 ,\n",
      "        -0.01160489, -0.00434837,  0.02658522,  0.01660433,  0.00504672,\n",
      "        -0.01243212,  0.00226519,  0.00128567,  0.01116104, -0.0017521 ,\n",
      "         0.02071842,  0.00448997, -0.01242436,  0.02674672, -0.0168687 ,\n",
      "         0.01654318,  0.00431544,  0.00429872, -0.00602618,  0.00825719,\n",
      "         0.00017892,  0.01954423, -0.00758757,  0.01066629,  0.02206939,\n",
      "         0.00057512, -0.00065231,  0.00404098,  0.02943714,  0.01803327,\n",
      "        -0.02059295,  0.00022073,  0.05524384, -0.02240871,  0.00821656,\n",
      "         0.00433515, -0.0059867 ,  0.00755121, -0.03812767,  0.01968912,\n",
      "         0.013939  , -0.00893375,  0.000723  ,  0.02039473,  0.00149666,\n",
      "         0.01775048,  0.00082164,  0.01343502,  0.03438625,  0.00598109,\n",
      "         0.01551123,  0.00072966, -0.01242917, -0.00332576,  0.01371611,\n",
      "         0.00877199, -0.01854672,  0.00194209, -0.0070858 , -0.03356702,\n",
      "        -0.01478301, -0.00082099, -0.00873356, -0.01743542, -0.03057763,\n",
      "        -0.02067795, -0.01749692,  0.00016711, -0.01141887, -0.00652427,\n",
      "        -0.00651729,  0.03101042, -0.01210801,  0.02490608,  0.02882723,\n",
      "         0.01758646, -0.00320688,  0.0231814 ,  0.02430336,  0.0027925 ,\n",
      "         0.01699888,  0.01703476, -0.0096954 ,  0.01471672, -0.02272647,\n",
      "        -0.00143962, -0.00551029,  0.0199921 , -0.03504642, -0.00646225]])}\n",
      "[[-0.09243796 -0.10842274  0.13829423 -0.05018327 -0.03916114  0.02745252\n",
      "  -0.13311418 -0.12787178 -0.00120344  0.02891469 -0.00932399 -0.10512628\n",
      "   0.07112666  0.0190043   0.11003819 -0.05851613 -0.26218316  0.13406305\n",
      "   0.02000426 -0.19947804 -0.11349239  0.04809793  0.07302327 -0.04709873\n",
      "  -0.01416341  0.08226263  0.10848084 -0.05793968 -0.06106393  0.01142321\n",
      "   0.13432498 -0.10633543  0.03152147  0.12779391 -0.04773128 -0.02570924\n",
      "   0.16753476 -0.09700194  0.14495272  0.09269445 -0.12048325  0.15620863\n",
      "   0.04176429  0.06477962  0.05406028  0.11639393  0.03244159 -0.04696088\n",
      "  -0.14035867  0.0630056   0.07755413 -0.07609258  0.0387497   0.11004889\n",
      "   0.0832148  -0.03925447 -0.09095868 -0.15209147  0.00653826  0.0348084\n",
      "   0.10419    -0.02374925  0.02618122 -0.15546646  0.0955358   0.18824997\n",
      "   0.03197595 -0.04393351 -0.04784717 -0.09269755 -0.13684031 -0.12306759\n",
      "  -0.00610381  0.01011305 -0.08020586 -0.01326072  0.21242444 -0.03778988\n",
      "   0.03453476  0.07567773 -0.13792089 -0.00719383  0.26984039  0.02768982\n",
      "  -0.10546584  0.03105799 -0.22667946  0.0375294   0.02361518 -0.04775162\n",
      "   0.05805072  0.06115058  0.05391196 -0.03001185  0.18561633 -0.00244746\n",
      "  -0.03792288  0.01656215  0.12113173  0.17542838]]\n"
     ]
    }
   ],
   "source": [
    "target_space_dict = cross_mapping(full_form_array, full_space_array, target_form_array, target_vocab)\n",
    "print(target_space_dict)\n",
    "print(embedding_space.get_vector('you'))"
   ]
  },
  {
   "cell_type": "code",
   "execution_count": 149,
   "metadata": {},
   "outputs": [
    {
     "name": "stdout",
     "output_type": "stream",
     "text": [
      "[[0.23327349]]\n",
      "[[0.38080014]]\n",
      "[[0.22614341]]\n"
     ]
    }
   ],
   "source": [
    "for word in target_vocab[:3]:\n",
    "    sim = abs(cosine_similarity(target_space_dict[word], embedding_space.get_vector(word)))\n",
    "    print(sim)"
   ]
  },
  {
   "cell_type": "code",
   "execution_count": null,
   "metadata": {},
   "outputs": [],
   "source": []
  }
 ],
 "metadata": {
  "kernelspec": {
   "display_name": "Python 3",
   "language": "python",
   "name": "python3"
  },
  "language_info": {
   "codemirror_mode": {
    "name": "ipython",
    "version": 3
   },
   "file_extension": ".py",
   "mimetype": "text/x-python",
   "name": "python",
   "nbconvert_exporter": "python",
   "pygments_lexer": "ipython3",
   "version": "3.8.3"
  }
 },
 "nbformat": 4,
 "nbformat_minor": 4
}
