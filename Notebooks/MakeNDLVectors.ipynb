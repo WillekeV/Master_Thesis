{
 "cells": [
  {
   "cell_type": "code",
   "execution_count": 1,
   "metadata": {},
   "outputs": [],
   "source": [
    "import numpy as np\n",
    "#from scipy import sparse\n",
    "import json\n",
    "import pandas as pd"
   ]
  },
  {
   "cell_type": "code",
   "execution_count": 2,
   "metadata": {},
   "outputs": [],
   "source": [
    "#make sparse matrix with scipy\n",
    "#data = np.load('associationMatrix72PlusProduced.npy')\n",
    "#data[data < 0.0001] = 0\n",
    "#data_csr = sparse.csr_matrix(data)\n",
    "#sparse.save_npz('sparse72PlusProduced.npz', data_csr)"
   ]
  },
  {
   "cell_type": "code",
   "execution_count": 20,
   "metadata": {},
   "outputs": [],
   "source": [
    "numpy_array = np.load(\"D:/UniversiteitNijmegen/Thesis/Test/Processed/NDL/AssociationMatrices/associationMatrix72PlusProduced.npy\")\n",
    "with open(\"D:/UniversiteitNijmegen/Thesis/Test/Processed/NDL/AssociationMatrices/cueIDs72PlusProduced.json\", 'r') as file:\n",
    "    cues = json.load(file)\n",
    "cuelist = []\n",
    "for key in cues.keys():\n",
    "    cuelist.append(key)\n",
    "    \n",
    "df = pd.DataFrame(numpy_array, index = cuelist, columns = cuelist)\n",
    "variance = df.var()\n",
    "\n",
    "sort = sorted(variance)\n",
    "threshold = sort[-4001]\n",
    "newdf = df.loc[:, df.var() > threshold]\n",
    "\n",
    "with open('NDLVectorChildProduced72Plus.txt', 'w') as f:\n",
    "    f.write(str(newdf.shape[0]))\n",
    "    f.write(\" \")\n",
    "    f.write(str(newdf.shape[1]))\n",
    "    f.write('\\n')\n",
    "    f.close()\n",
    "newdf.to_csv(r'NDLVectorChildProduced72Plus.txt', index = True, header = False, sep = ' ', mode = 'a')"
   ]
  },
  {
   "cell_type": "code",
   "execution_count": 4,
   "metadata": {},
   "outputs": [],
   "source": [
    "df = pd.DataFrame(numpy_array, index = cuelist, columns = cuelist)\n",
    "variance = df.var()"
   ]
  },
  {
   "cell_type": "code",
   "execution_count": 38,
   "metadata": {},
   "outputs": [],
   "source": [
    "sort = sorted(variance)\n",
    "threshold = sort[-4001]\n",
    "newdf = df.loc[:, df.var() > threshold]"
   ]
  },
  {
   "cell_type": "code",
   "execution_count": 41,
   "metadata": {},
   "outputs": [],
   "source": [
    "with open('NDLVectorChildDirected72Plus.txt', 'w') as f:\n",
    "    f.write(str(newdf.shape[0]))\n",
    "    f.write(\" \")\n",
    "    f.write(str(newdf.shape[1]))\n",
    "    f.write('\\n')\n",
    "    f.close()\n",
    "newdf.to_csv(r'NDLVectorChildDirected72Plus.txt', index = True, header = False, sep = ' ', mode = 'a')"
   ]
  },
  {
   "cell_type": "code",
   "execution_count": 22,
   "metadata": {
    "scrolled": false
   },
   "outputs": [],
   "source": [
    "#if using the sparse matrix from scipy, use this code to make a txt file:\n",
    "#sparsedict = {}\n",
    "#for key, value in dictionary.items():\n",
    "#    (_, wordIndex) = key\n",
    "#    sparsedict.setdefault(cuelist[wordIndex], []).append(value)\n",
    "    \n",
    "# densedict = {}\n",
    "# (nx, ny) = dense_matrix.shape\n",
    "# for i in range(nx):\n",
    "#     l = densedict.setdefault(cuelist[i], [])\n",
    "#     l.extend(dense_matrix[i].tolist())\n",
    "\n",
    "#print(\"done\")\n",
    "#print(sparsedict[\"at\"])\n",
    "\n",
    "#with open('NDLVectorChildDirected72Plus.txt', 'w') as f:\n",
    "#    for i in range(10):\n",
    "#        f.write(cuelist[i] + \" \")\n",
    "#        for j in range(ny):\n",
    "#            v = dense_matrix[i,j]\n",
    "#            if v == 0:\n",
    "#                f.write(\"0 \")\n",
    "#            else:\n",
    "#                f.write(str(v) + \" \")\n",
    "#        f.write(\"\\n\")"
   ]
  },
  {
   "cell_type": "code",
   "execution_count": null,
   "metadata": {},
   "outputs": [],
   "source": []
  }
 ],
 "metadata": {
  "kernelspec": {
   "display_name": "Python 3",
   "language": "python",
   "name": "python3"
  },
  "language_info": {
   "codemirror_mode": {
    "name": "ipython",
    "version": 3
   },
   "file_extension": ".py",
   "mimetype": "text/x-python",
   "name": "python",
   "nbconvert_exporter": "python",
   "pygments_lexer": "ipython3",
   "version": "3.8.3"
  }
 },
 "nbformat": 4,
 "nbformat_minor": 4
}
