{
 "cells": [
  {
   "cell_type": "code",
   "execution_count": 1,
   "metadata": {},
   "outputs": [],
   "source": [
    "import json\n",
    "from gensim.models import Word2Vec\n",
    "import numpy as np"
   ]
  },
  {
   "cell_type": "code",
   "execution_count": 26,
   "metadata": {},
   "outputs": [
    {
     "name": "stdout",
     "output_type": "stream",
     "text": [
      "done saving the vectors and model\n"
     ]
    }
   ],
   "source": [
    "#First model\n",
    "with open(\"D:/UniversiteitNijmegen/Thesis/Test/Processed/ChildProduced24.json\", 'r') as file:\n",
    "    data = json.load(file)\n",
    "model = Word2Vec(data[0], min_count = 1, size = 100, window = 10, sg = 1, iter = 20)\n",
    "model.save(\"W2VChildProduced24.model\")\n",
    "model.wv.save_word2vec_format(\"W2VChildProduced24.txt\", binary = False)\n",
    "print(\"done saving the vectors and model\")"
   ]
  },
  {
   "cell_type": "code",
   "execution_count": 34,
   "metadata": {},
   "outputs": [
    {
     "name": "stdout",
     "output_type": "stream",
     "text": [
      "done saving the vectors and model\n"
     ]
    }
   ],
   "source": [
    "#later iterations of model\n",
    "with open(\"D:/UniversiteitNijmegen/Thesis/Test/Processed/ChildProduced72Plus.json\", 'r') as file:\n",
    "    data = json.load(file)\n",
    "model = Word2Vec.load(\"W2VChildProduced72.model\")\n",
    "model.build_vocab(data[0], update = True)\n",
    "model.train(data[0], total_examples = len(data[0]), epochs=model.epochs)\n",
    "model.save(\"W2VChildProduced72Plus.model\")\n",
    "model.wv.save_word2vec_format(\"W2VChildProduced72Plus.txt\", binary = False)\n",
    "print(\"done saving the vectors and model\")"
   ]
  },
  {
   "cell_type": "code",
   "execution_count": null,
   "metadata": {},
   "outputs": [],
   "source": []
  }
 ],
 "metadata": {
  "kernelspec": {
   "display_name": "Python 3",
   "language": "python",
   "name": "python3"
  },
  "language_info": {
   "codemirror_mode": {
    "name": "ipython",
    "version": 3
   },
   "file_extension": ".py",
   "mimetype": "text/x-python",
   "name": "python",
   "nbconvert_exporter": "python",
   "pygments_lexer": "ipython3",
   "version": "3.8.3"
  }
 },
 "nbformat": 4,
 "nbformat_minor": 4
}
