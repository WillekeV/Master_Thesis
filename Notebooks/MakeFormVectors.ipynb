{
 "cells": [
  {
   "cell_type": "code",
   "execution_count": 30,
   "metadata": {},
   "outputs": [],
   "source": [
    "import numpy as np\n",
    "import json\n",
    "import pandas as pd"
   ]
  },
  {
   "cell_type": "code",
   "execution_count": 50,
   "metadata": {},
   "outputs": [
    {
     "name": "stdout",
     "output_type": "stream",
     "text": [
      "done\n"
     ]
    }
   ],
   "source": [
    "#open the wordlist file\n",
    "with open(\"D:/UniversiteitNijmegen/Thesis/Test/Processed/NDL/AssociationMatrices/cueIDs24Produced.json\", 'r') as file:\n",
    "    cues = json.load(file)\n",
    "wordlist = []\n",
    "for key in cues.keys():\n",
    "    wordlist.append(key)\n",
    "    \n",
    "#append a # as start and end of word (as in Baayen)\n",
    "newlist = []\n",
    "for word in wordlist:\n",
    "    word = '#' + word + '#'\n",
    "    if word == '##':\n",
    "        word = '# #'\n",
    "    newlist.append(word)\n",
    "\n",
    "#create a list of all threegrams\n",
    "threegrams = []\n",
    "k = 3\n",
    "for word in newlist:\n",
    "    for start in range(len(word)):\n",
    "        temp = word[start: start + k]\n",
    "        if len(temp) == k:\n",
    "            if temp not in threegrams:\n",
    "                threegrams.append(temp)\n",
    "                \n",
    "#create dataframe\n",
    "d = pd.DataFrame(0, index=newlist, columns=threegrams)\n",
    "\n",
    "#check if 3gram is in word, if yes, the corresponding cel will have 1 added to it\n",
    "for word in newlist:\n",
    "    for ngram in threegrams:\n",
    "        if ngram in word:\n",
    "            d.loc[word, ngram] += 1\n",
    "            \n",
    "d.set_axis(wordlist, axis='index', inplace = True)\n",
    "\n",
    "with open('FormVectorChildProduced24.txt', 'w') as f:\n",
    "    f.write(str(d.shape[0]))\n",
    "    f.write(\" \")\n",
    "    f.write(str(d.shape[1]))\n",
    "    f.write('\\n')\n",
    "    f.close()\n",
    "d.to_csv(r'FormVectorChildProduced24.txt', index = True, header = False, sep = ' ', mode = 'a')\n",
    "\n",
    "print(\"done\")"
   ]
  },
  {
   "cell_type": "code",
   "execution_count": null,
   "metadata": {},
   "outputs": [],
   "source": []
  }
 ],
 "metadata": {
  "kernelspec": {
   "display_name": "Python 3",
   "language": "python",
   "name": "python3"
  },
  "language_info": {
   "codemirror_mode": {
    "name": "ipython",
    "version": 3
   },
   "file_extension": ".py",
   "mimetype": "text/x-python",
   "name": "python",
   "nbconvert_exporter": "python",
   "pygments_lexer": "ipython3",
   "version": "3.8.3"
  }
 },
 "nbformat": 4,
 "nbformat_minor": 4
}
