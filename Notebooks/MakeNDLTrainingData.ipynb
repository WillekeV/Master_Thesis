{
 "cells": [
  {
   "cell_type": "code",
   "execution_count": 27,
   "metadata": {},
   "outputs": [],
   "source": [
    "import json\n",
    "import numpy as np"
   ]
  },
  {
   "cell_type": "code",
   "execution_count": 77,
   "metadata": {},
   "outputs": [],
   "source": [
    "total = []\n",
    "\n",
    "with open('ChildDirected24.json', 'r') as file:\n",
    "    data = json.load(file)\n",
    "with open('ChildDirected30.json', 'r') as file2:\n",
    "    data2 = json.load(file2)\n",
    "with open('ChildDirected36.json', 'r') as file3:\n",
    "    data3 = json.load(file3)\n",
    "with open('ChildDirected42.json', 'r') as file4:\n",
    "    data4 = json.load(file4)\n",
    "with open('ChildDirected48.json', 'r') as file5:\n",
    "    data5 = json.load(file5)\n",
    "with open('ChildDirected54.json', 'r') as file6:\n",
    "    data6 = json.load(file6)\n",
    "with open('ChildDirected60.json', 'r') as file7:\n",
    "    data7 = json.load(file7)\n",
    "with open('ChildDirected72.json', 'r') as file8:\n",
    "    data8 = json.load(file8)\n",
    "#with open('ChildDirected72Plus.json', 'r') as file9:\n",
    "#    data9 = json.load(file9)\n",
    "\n",
    "for i in data[0]:\n",
    "    total.append(i)\n",
    "for i in data2[0]:\n",
    "    total.append(i)\n",
    "for i in data3[0]:\n",
    "    total.append(i)\n",
    "for i in data4[0]:\n",
    "    total.append(i)\n",
    "for i in data5[0]:\n",
    "    total.append(i)\n",
    "for i in data6[0]:\n",
    "    total.append(i)\n",
    "for i in data7[0]:\n",
    "    total.append(i)\n",
    "for i in data8[0]:\n",
    "    total.append(i)\n",
    "#for i in data9[0]:\n",
    "#    total.append(i)\n",
    "\n",
    "json.dump((total, total), open('ChildDirected72NDL.json', 'w'))"
   ]
  },
  {
   "cell_type": "code",
   "execution_count": 44,
   "metadata": {},
   "outputs": [],
   "source": [
    "data3 = np.load('associationMatrix_100.npy')"
   ]
  },
  {
   "cell_type": "code",
   "execution_count": 45,
   "metadata": {},
   "outputs": [
    {
     "name": "stdout",
     "output_type": "stream",
     "text": [
      "data looks like: \n",
      " [[ 6.66357128e-01  4.56602357e-07 -1.96114220e-06 ...  0.00000000e+00\n",
      "  -1.56231927e-06 -2.26093201e-07]\n",
      " [-2.96849616e-07  1.00000000e-04  2.17515917e-11 ...  0.00000000e+00\n",
      "   4.83522513e-12  0.00000000e+00]\n",
      " [-5.44791845e-07  0.00000000e+00  1.00000000e-04 ...  0.00000000e+00\n",
      "   2.21289053e-11  0.00000000e+00]\n",
      " ...\n",
      " [ 0.00000000e+00  0.00000000e+00  0.00000000e+00 ...  1.00000000e-04\n",
      "   0.00000000e+00  0.00000000e+00]\n",
      " [-3.90048918e-06 -6.13841602e-09  2.95852580e-09 ...  0.00000000e+00\n",
      "   3.99211174e-03  0.00000000e+00]\n",
      " [-7.97542450e-07  5.38737639e-10 -1.00812010e-09 ...  0.00000000e+00\n",
      "   2.15470558e-09  1.00000000e-04]] \n",
      "\n",
      "shape of data:  (18289, 18289) \n",
      "\n",
      "nonzero entries:  198321106 \n",
      "\n"
     ]
    }
   ],
   "source": [
    "print(\"data looks like: \\n\", data3, \"\\n\")\n",
    "print(\"shape of data: \", data3.shape, \"\\n\")\n",
    "print(\"nonzero entries: \", np.count_nonzero(data3), \"\\n\")"
   ]
  },
  {
   "cell_type": "code",
   "execution_count": null,
   "metadata": {},
   "outputs": [],
   "source": []
  }
 ],
 "metadata": {
  "kernelspec": {
   "display_name": "Python 3",
   "language": "python",
   "name": "python3"
  },
  "language_info": {
   "codemirror_mode": {
    "name": "ipython",
    "version": 3
   },
   "file_extension": ".py",
   "mimetype": "text/x-python",
   "name": "python",
   "nbconvert_exporter": "python",
   "pygments_lexer": "ipython3",
   "version": "3.8.3"
  }
 },
 "nbformat": 4,
 "nbformat_minor": 4
}
