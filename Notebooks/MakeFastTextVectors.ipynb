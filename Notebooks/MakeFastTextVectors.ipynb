{
 "cells": [
  {
   "cell_type": "code",
   "execution_count": 2,
   "metadata": {},
   "outputs": [],
   "source": [
    "import json\n",
    "from gensim.models.fasttext import FastText\n",
    "import numpy as np"
   ]
  },
  {
   "cell_type": "code",
   "execution_count": 12,
   "metadata": {},
   "outputs": [
    {
     "name": "stdout",
     "output_type": "stream",
     "text": [
      "done saving the vectors and model\n"
     ]
    }
   ],
   "source": [
    "#First model\n",
    "with open(\"D:/UniversiteitNijmegen/Thesis/Test/Processed/ChildProduced24.json\", 'r') as file:\n",
    "    data = json.load(file)\n",
    "model = FastText(data[0], size = 100, window = 10, min_count = 1, sg = 1, iter = 20)\n",
    "model.save(\"FTChildProduced24.model\")\n",
    "model.wv.save_word2vec_format(\"FTChildProduced24.txt\", binary = False)\n",
    "print(\"done saving the vectors and model\")"
   ]
  },
  {
   "cell_type": "code",
   "execution_count": 20,
   "metadata": {},
   "outputs": [
    {
     "name": "stdout",
     "output_type": "stream",
     "text": [
      "done saving the vectors and model\n"
     ]
    }
   ],
   "source": [
    "#later iterations of model\n",
    "with open(\"D:/UniversiteitNijmegen/Thesis/Test/Processed/ChildProduced72Plus.json\", 'r') as file:\n",
    "    data = json.load(file)\n",
    "model = FastText.load(\"FTChildProduced72.model\")\n",
    "model.build_vocab(data[0], update = True)\n",
    "model.train(data[0], total_examples = len(data[0]), epochs=model.epochs)\n",
    "model.save(\"FTChildProduced72Plus.model\")\n",
    "model.wv.save_word2vec_format(\"FTChildProduced72Plus.txt\", binary = False)\n",
    "print(\"done saving the vectors and model\")"
   ]
  },
  {
   "cell_type": "code",
   "execution_count": null,
   "metadata": {},
   "outputs": [],
   "source": []
  }
 ],
 "metadata": {
  "kernelspec": {
   "display_name": "Python 3",
   "language": "python",
   "name": "python3"
  },
  "language_info": {
   "codemirror_mode": {
    "name": "ipython",
    "version": 3
   },
   "file_extension": ".py",
   "mimetype": "text/x-python",
   "name": "python",
   "nbconvert_exporter": "python",
   "pygments_lexer": "ipython3",
   "version": "3.8.3"
  }
 },
 "nbformat": 4,
 "nbformat_minor": 4
}
